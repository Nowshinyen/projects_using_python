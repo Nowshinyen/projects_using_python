{
  "nbformat": 4,
  "nbformat_minor": 0,
  "metadata": {
    "colab": {
      "provenance": []
    },
    "kernelspec": {
      "name": "python3",
      "display_name": "Python 3"
    },
    "language_info": {
      "name": "python"
    }
  },
  "cells": [
    {
      "cell_type": "code",
      "execution_count": 10,
      "metadata": {
        "id": "5euE5x1e0j6j",
        "colab": {
          "base_uri": "https://localhost:8080/"
        },
        "outputId": "3c4c5bcf-0769-4ab3-df3f-c2bdc320639d"
      },
      "outputs": [
        {
          "output_type": "stream",
          "name": "stdout",
          "text": [
            "Press r to roll the dice: r\n",
            "You got: 5\n",
            "Press r to roll the dice: r\n",
            "You got: 1\n",
            "Press r to roll the dice: r\n",
            "You got: 5\n",
            "Press r to roll the dice: r\n",
            "You got: 6\n",
            "Press r to roll the dice: r\n",
            "You got: 1\n",
            "Press r to roll the dice: r\n",
            "You got: 2\n",
            "Press r to roll the dice: e\n",
            "Game over\n"
          ]
        }
      ],
      "source": [
        "import random\n",
        "\n",
        "while True :\n",
        "    roll = input(\"Press r to roll the dice: \").lower()\n",
        "\n",
        "    if roll == 'r' :\n",
        "        print(\"You got:\", random.randint(1, 6))\n",
        "\n",
        "    else :\n",
        "        print(\"Game over\")\n",
        "        break\n"
      ]
    }
  ]
}