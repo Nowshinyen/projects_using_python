{
  "nbformat": 4,
  "nbformat_minor": 0,
  "metadata": {
    "colab": {
      "provenance": []
    },
    "kernelspec": {
      "name": "python3",
      "display_name": "Python 3"
    },
    "language_info": {
      "name": "python"
    }
  },
  "cells": [
    {
      "cell_type": "code",
      "execution_count": 6,
      "metadata": {
        "colab": {
          "base_uri": "https://localhost:8080/"
        },
        "id": "bYH5Oy6jlhw6",
        "outputId": "743b9f03-d6c0-44ef-de97-f62a803b544e"
      },
      "outputs": [
        {
          "name": "stdout",
          "output_type": "stream",
          "text": [
            "Your question: hi\n",
            "chatbot: Hello. How can I help you?\n",
            "Your question: how are you\n",
            "chatbot: I am fine. Thanks for asking. \n",
            "Your question: hello\n",
            "chatbot: Hello. How can I help you?\n",
            "Your question: your name\n",
            "chatbot: I am a simple chatbot.\n",
            "Your question: what is python\n",
            "chatbot: Python is a high-level, interpreted, object-oriented programming language. \n",
            "Your question: what is the capital of Bangladesh\n",
            "chatbot: Dhaka.\n",
            "Your question: uff\n",
            "chatbot: I don't get your question.\n",
            "Your question: stop\n",
            "chatbot: I don't get your question.\n",
            "Your question: quit\n"
          ]
        }
      ],
      "source": [
        "import re\n",
        "def python_chatbot(your_input) :\n",
        "    your_input = your_input.lower()\n",
        "\n",
        "    if re.search(\"hi|hello\", your_input) :\n",
        "        return \"Hello. How can I help you?\"\n",
        "\n",
        "    elif \"your name\" in your_input :\n",
        "        return \"I am a simple chatbot.\"\n",
        "\n",
        "    elif \"how are you\" in your_input :\n",
        "        return \"I am fine. Thanks for asking. \"\n",
        "\n",
        "    elif \"what is the capital of bangladesh\" in your_input :\n",
        "        return \"Dhaka.\"\n",
        "\n",
        "    elif \"what is python\" in your_input :\n",
        "        return \"Python is a high-level, interpreted, object-oriented programming language. \"\n",
        "\n",
        "    else:\n",
        "        return \"I don't get your question.\"\n",
        "\n",
        "\n",
        "while True:\n",
        "    you = input(\"Your question: \")\n",
        "    if you.lower() == \"quit\" :\n",
        "        break\n",
        "    print(\"chatbot:\", python_chatbot(you))\n"
      ]
    }
  ]
}