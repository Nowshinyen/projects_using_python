{
  "nbformat": 4,
  "nbformat_minor": 0,
  "metadata": {
    "colab": {
      "provenance": []
    },
    "kernelspec": {
      "name": "python3",
      "display_name": "Python 3"
    },
    "language_info": {
      "name": "python"
    }
  },
  "cells": [
    {
      "cell_type": "code",
      "execution_count": 6,
      "metadata": {
        "colab": {
          "base_uri": "https://localhost:8080/"
        },
        "id": "phx01Slnx0aT",
        "outputId": "d63e63f2-c75d-4064-afb2-d66b1926da11"
      },
      "outputs": [
        {
          "output_type": "stream",
          "name": "stdout",
          "text": [
            "Enter your operation(Options: +, -, *, / or 'q' to quit): +\n",
            "Enter your 1st number: 50\n",
            "Enter your 2nd number: 10\n",
            "Ans: 60.0\n",
            "Enter your operation(Options: +, -, *, / or 'q' to quit): -\n",
            "Enter your 1st number: 20\n",
            "Enter your 2nd number: 2\n",
            "Ans: 18.0\n",
            "Enter your operation(Options: +, -, *, / or 'q' to quit): *\n",
            "Enter your 1st number: 4\n",
            "Enter your 2nd number: 2\n",
            "Ans: 8.0\n",
            "Enter your operation(Options: +, -, *, / or 'q' to quit): /\n",
            "Enter your 1st number: 15\n",
            "Enter your 2nd number: 3\n",
            "Ans: 5.0\n",
            "Enter your operation(Options: +, -, *, / or 'q' to quit): /\n",
            "Enter your 1st number: 800\n",
            "Enter your 2nd number: 0\n",
            "Error: Cannot divide by zero\n",
            "Enter your operation(Options: +, -, *, / or 'q' to quit): q\n",
            "Exit calculator\n"
          ]
        }
      ],
      "source": [
        "\n",
        "while True:\n",
        "    temp = input(\"Enter your operation(Options: +, -, *, / or 'q' to quit): \")\n",
        "\n",
        "    if temp == \"q\" :\n",
        "        print(\"Exit calculator\")\n",
        "        break\n",
        "\n",
        "    num_1 = float(input(\"Enter your 1st number: \"))\n",
        "    num_2 = float(input(\"Enter your 2nd number: \"))\n",
        "\n",
        "    if temp == '+' :\n",
        "        print(\"Ans:\", num_1 + num_2)\n",
        "\n",
        "    elif temp == '-' :\n",
        "        print(\"Ans:\", num_1 - num_2)\n",
        "\n",
        "    elif temp == '*' :\n",
        "        print(\"Ans:\", num_1 * num_2)\n",
        "\n",
        "    elif temp == '/' :\n",
        "        if num_2 != 0 :\n",
        "            print(\"Ans:\", num_1 / num_2)\n",
        "        else:\n",
        "            print(\"Error: Cannot divide by zero\")\n",
        "    else:\n",
        "        print(\"Invalid input\")\n"
      ]
    }
  ]
}