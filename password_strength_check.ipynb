{
  "nbformat": 4,
  "nbformat_minor": 0,
  "metadata": {
    "colab": {
      "provenance": []
    },
    "kernelspec": {
      "name": "python3",
      "display_name": "Python 3"
    },
    "language_info": {
      "name": "python"
    }
  },
  "cells": [
    {
      "cell_type": "code",
      "source": [
        "import re\n",
        "def password_strength(password) :\n",
        "    strength = 0\n",
        "    remarks = \"\"\n",
        "\n",
        "\n",
        "    if len(password) >= 7 :\n",
        "        strength += 1\n",
        "\n",
        "    if re.search(\"[a-z]\", password) :\n",
        "        strength += 1\n",
        "\n",
        "    if re.search(\"[A-Z]\", password) :\n",
        "        strength += 1\n",
        "\n",
        "    if re.search(\"[0-9]\", password) :\n",
        "        strength += 1\n",
        "\n",
        "    if re.search(\"!@#$%^&*[(),.?\\\":{}]'=+-|<>\", password) :\n",
        "        strength += 1\n",
        "\n",
        "    if strength <= 2 :\n",
        "        remarks = \"Weak\"\n",
        "    elif strength == 3 :\n",
        "        remarks = \"Medium\"\n",
        "    else :\n",
        "        remarks = \"Strong\"\n",
        "\n",
        "    return remarks\n",
        "\n",
        "password = input(\"Enter your password to check it's strength : \")\n",
        "print(\"Your Password strength is :\", password_strength(password))\n"
      ],
      "metadata": {
        "id": "ces23SdHDAZX",
        "outputId": "4d2a55f6-0eb2-4f6b-a496-fb33549465fb",
        "colab": {
          "base_uri": "https://localhost:8080/"
        }
      },
      "execution_count": 9,
      "outputs": [
        {
          "output_type": "stream",
          "name": "stdout",
          "text": [
            "Enter your password to check it's strength : vdkge3643{(AJ]\n",
            "Your Password strength is : Strong\n"
          ]
        }
      ]
    }
  ]
}