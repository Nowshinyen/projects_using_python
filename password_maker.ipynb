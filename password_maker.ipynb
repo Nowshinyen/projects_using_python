{
  "nbformat": 4,
  "nbformat_minor": 0,
  "metadata": {
    "colab": {
      "provenance": []
    },
    "kernelspec": {
      "name": "python3",
      "display_name": "Python 3"
    },
    "language_info": {
      "name": "python"
    }
  },
  "cells": [
    {
      "cell_type": "code",
      "execution_count": 7,
      "metadata": {
        "colab": {
          "base_uri": "https://localhost:8080/"
        },
        "id": "eCXR4U-vAvfe",
        "outputId": "8bd3f577-a75b-4d47-cb32-3cc6958b8a4b"
      },
      "outputs": [
        {
          "output_type": "stream",
          "name": "stdout",
          "text": [
            "Enter your password length: 12\n",
            " Your can set your password : hxoV%/f;P1V$\n"
          ]
        }
      ],
      "source": [
        "import random\n",
        "import string\n",
        "length = int(input(\"Enter your password length: \") )\n",
        "\n",
        "characters = string.digits + string.punctuation +string.ascii_lowercase + string.ascii_uppercase\n",
        "password = ''.join(random.choice(characters) for i in range(length) )\n",
        "\n",
        "print(\" Your can set your password :\", password )\n",
        "\n"
      ]
    }
  ]
}